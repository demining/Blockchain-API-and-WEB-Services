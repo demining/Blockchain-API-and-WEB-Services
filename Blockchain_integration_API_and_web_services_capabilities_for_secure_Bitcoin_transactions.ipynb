{
  "nbformat": 4,
  "nbformat_minor": 0,
  "metadata": {
    "colab": {
      "provenance": []
    },
    "kernelspec": {
      "name": "python3",
      "display_name": "Python 3"
    },
    "language_info": {
      "name": "python"
    }
  },
  "cells": [
    {
      "cell_type": "markdown",
      "source": [
        "\n",
        "\n",
        "---\n",
        "\n"
      ],
      "metadata": {
        "id": "_kvH_uui0_V7"
      }
    },
    {
      "cell_type": "markdown",
      "source": [
        "# Bitcoin Integration\n",
        "\n",
        "*  The concept of Blockchain and Bitcoin Integration"
      ],
      "metadata": {
        "id": "56Vw1cTf1TfE"
      }
    },
    {
      "cell_type": "code",
      "source": [
        "!git clone https://github.com/smartiden/Bitcoin-Integration.git"
      ],
      "metadata": {
        "colab": {
          "base_uri": "https://localhost:8080/"
        },
        "id": "x0q4PMdm0-kD",
        "outputId": "b9d0b04c-33fa-4980-e431-9e3b9936e561"
      },
      "execution_count": null,
      "outputs": [
        {
          "output_type": "stream",
          "name": "stdout",
          "text": [
            "Cloning into 'Bitcoin-Integration'...\n",
            "remote: Enumerating objects: 33, done.\u001b[K\n",
            "remote: Counting objects: 100% (33/33), done.\u001b[K\n",
            "remote: Compressing objects: 100% (25/25), done.\u001b[K\n",
            "remote: Total 33 (delta 13), reused 19 (delta 6), pack-reused 0\u001b[K\n",
            "Receiving objects: 100% (33/33), 17.74 MiB | 29.68 MiB/s, done.\n",
            "Resolving deltas: 100% (13/13), done.\n"
          ]
        }
      ]
    },
    {
      "cell_type": "code",
      "source": [
        "cd Bitcoin-Integration"
      ],
      "metadata": {
        "colab": {
          "base_uri": "https://localhost:8080/"
        },
        "id": "t4-nf5yW1H90",
        "outputId": "500ce194-9e49-43b2-b785-379c9f5be227"
      },
      "execution_count": null,
      "outputs": [
        {
          "output_type": "stream",
          "name": "stdout",
          "text": [
            "/content/Bitcoin-Integration\n"
          ]
        }
      ]
    },
    {
      "cell_type": "code",
      "source": [
        "ls"
      ],
      "metadata": {
        "colab": {
          "base_uri": "https://localhost:8080/"
        },
        "id": "lf387NIT1JGC",
        "outputId": "b1f84019-6ac8-40a1-b86f-ec2831fcc4e2"
      },
      "execution_count": null,
      "outputs": [
        {
          "output_type": "stream",
          "name": "stdout",
          "text": [
            "main.py    requirements.txt   secp256k1.py  signing.py  UTXO.png\n",
            "README.md  screen_replit.gif  sighash.py    sign.py\n"
          ]
        }
      ]
    },
    {
      "cell_type": "code",
      "source": [
        "!pip install -r requirements.txt"
      ],
      "metadata": {
        "colab": {
          "base_uri": "https://localhost:8080/"
        },
        "id": "16KYUQWC1LBO",
        "outputId": "29778a1b-645d-496c-b1f9-30076905cba7"
      },
      "execution_count": null,
      "outputs": [
        {
          "output_type": "stream",
          "name": "stdout",
          "text": [
            "Collecting zmq (from -r requirements.txt (line 1))\n",
            "  Downloading zmq-0.0.0.zip (2.2 kB)\n",
            "  Preparing metadata (setup.py) ... \u001b[?25l\u001b[?25hdone\n",
            "Requirement already satisfied: urllib3 in /usr/local/lib/python3.10/dist-packages (from -r requirements.txt (line 2)) (2.0.7)\n",
            "Requirement already satisfied: requests in /usr/local/lib/python3.10/dist-packages (from -r requirements.txt (line 3)) (2.31.0)\n",
            "Requirement already satisfied: pyzmq in /usr/local/lib/python3.10/dist-packages (from zmq->-r requirements.txt (line 1)) (23.2.1)\n",
            "Requirement already satisfied: charset-normalizer<4,>=2 in /usr/local/lib/python3.10/dist-packages (from requests->-r requirements.txt (line 3)) (3.3.2)\n",
            "Requirement already satisfied: idna<4,>=2.5 in /usr/local/lib/python3.10/dist-packages (from requests->-r requirements.txt (line 3)) (3.6)\n",
            "Requirement already satisfied: certifi>=2017.4.17 in /usr/local/lib/python3.10/dist-packages (from requests->-r requirements.txt (line 3)) (2024.2.2)\n",
            "Building wheels for collected packages: zmq\n",
            "  Building wheel for zmq (setup.py) ... \u001b[?25l\u001b[?25hdone\n",
            "  Created wheel for zmq: filename=zmq-0.0.0-py3-none-any.whl size=1262 sha256=e15a600cab8181e18cfe2bf600d75fda5f41a7296ec31047ae0cbd896ff51457\n",
            "  Stored in directory: /root/.cache/pip/wheels/ab/c5/fe/d853f71843cae26c123d37a7a5934baac20fc66f35a913951d\n",
            "Successfully built zmq\n",
            "Installing collected packages: zmq\n",
            "Successfully installed zmq-0.0.0\n"
          ]
        }
      ]
    },
    {
      "cell_type": "markdown",
      "source": [
        "\n",
        "\n",
        "---\n",
        "\n",
        "# 3xpl.com – Fastest ad-free universal block explorer\n",
        "\n",
        "*  Python script that can be used to create a basic block explorer for cryptocurrency:"
      ],
      "metadata": {
        "id": "NKzaLQr21cpC"
      }
    },
    {
      "cell_type": "code",
      "source": [
        "import requests\n",
        "from datetime import datetime\n",
        "\n",
        "class BlockExplorer:\n",
        "    def __init__(self, api_url):\n",
        "        self.api_url = api_url\n",
        "\n",
        "    def get_block_height(self):\n",
        "        response = requests.get(f'{self.api_url}/block-height')\n",
        "        return response.json()['height']\n",
        "\n",
        "    def get_block_by_height(self, block_height):\n",
        "        response = requests.get(f'{self.api_url}/block/{block_height}')\n",
        "        return response.json()\n",
        "\n",
        "    def get_transaction_by_id(self, tx_id):\n",
        "        response = requests.get(f'{self.api_url}/transaction/{tx_id}')\n",
        "        return response.json()\n",
        "\n",
        "def main():\n",
        "    api_url = 'https://3xpl.com/api'  # Replace with the actual API URL\n",
        "    explorer = BlockExplorer(api_url)\n",
        "\n",
        "    print(\"Welcome to the 3xpl.com Block Explorer!\")\n",
        "    print(\"----------------------------------------\")\n",
        "\n",
        "    while True:\n",
        "        print(\"\\nOptions:\")\n",
        "        print(\"1. Get block height\")\n",
        "        print(\"2. Get block by height\")\n",
        "        print(\"3. Get transaction by ID\")\n",
        "        print(\"4. Exit\")\n",
        "\n",
        "        choice = input(\"Enter your choice (1/2/3/4): \")\n",
        "\n",
        "        if choice == '1':\n",
        "            block_height = explorer.get_block_height()\n",
        "            print(f\"Current block height: {block_height}\")\n",
        "        elif choice == '2':\n",
        "            try:\n",
        "                block_height = int(input(\"Enter the block height: \"))\n",
        "                block_data = explorer.get_block_by_height(block_height)\n",
        "                print(\"Block Data:\")\n",
        "                print(block_data)\n",
        "            except requests.exceptions.RequestException as e:\n",
        "                print(f\"Error fetching block data: {e}\")\n",
        "        elif choice == '3':\n",
        "            tx_id = input(\"Enter the transaction ID: \")\n",
        "            tx_data = explorer.get_transaction_by_id(tx_id)\n",
        "            print(\"Transaction Data:\")\n",
        "            print(tx_data)\n",
        "        elif choice == '4':\n",
        "            print(\"Exiting...\")\n",
        "            break\n",
        "        else:\n",
        "            print(\"Invalid choice. Please select a valid option.\")\n",
        "\n",
        "if __name__ == '__main__':\n",
        "    main()"
      ],
      "metadata": {
        "id": "QOVcqSYO1oA1"
      },
      "execution_count": null,
      "outputs": []
    },
    {
      "cell_type": "markdown",
      "source": [
        "\n",
        "\n",
        "---\n",
        "\n",
        "# Block.io: Bitcoin API and More\n",
        "\n",
        "*  Python script for working with Block.io API:"
      ],
      "metadata": {
        "id": "jEUOX6xZ1pvt"
      }
    },
    {
      "cell_type": "code",
      "source": [
        "import requests\n",
        "\n",
        "# Замените YOUR_API_KEY на ваш API ключ от Block.io\n",
        "API_KEY = 'YOUR_API_KEY'\n",
        "\n",
        "# URL для доступа к Block.io API\n",
        "BASE_URL = 'https://block.io/api/v2'\n",
        "\n",
        "# Получение баланса аккаунта\n",
        "def get_balance():\n",
        "    url = f'{BASE_URL}/get_balance/?api_key={API_KEY}'\n",
        "    response = requests.get(url)\n",
        "    if response.status_code == 200:\n",
        "        data = response.json()\n",
        "        if data['status'] == 'success':\n",
        "            print(f\"Ваш баланс: {data['data']['available_balance']} BTC\")\n",
        "        else:\n",
        "            print(f\"Ошибка: {data['data']['error_message']}\")\n",
        "    else:\n",
        "        print(\"Произошла ошибка при обращении к API\")\n",
        "\n",
        "# Создание нового адреса для получения платежей\n",
        "def create_address():\n",
        "    url = f'{BASE_URL}/get_new_address/?api_key={API_KEY}'\n",
        "    response = requests.get(url)\n",
        "    if response.status_code == 200:\n",
        "        data = response.json()\n",
        "        if data['status'] == 'success':\n",
        "            print(f\"Новый адрес создан: {data['data']['address']}\")\n",
        "        else:\n",
        "            print(f\"Ошибка: {data['data']['error_message']}\")\n",
        "    else:\n",
        "        print(\"Произошла ошибка при обращении к API\")\n",
        "\n",
        "# Вызов функций для работы с Block.io API\n",
        "get_balance()\n",
        "create_address()"
      ],
      "metadata": {
        "id": "awM_JX2x10VW"
      },
      "execution_count": null,
      "outputs": []
    },
    {
      "cell_type": "markdown",
      "source": [
        "\n",
        "\n",
        "---\n",
        "\n",
        "# blockchair.com – Universal blockchain explorer and search engine.\n",
        "\n",
        "*  Python script that uses the blockchair.com API to obtain information about a block of the Bitcoin blockchain:"
      ],
      "metadata": {
        "id": "-d05d7uc15z-"
      }
    },
    {
      "cell_type": "code",
      "source": [
        "import requests\n",
        "\n",
        "# Адрес API blockchair.com для биткойна\n",
        "API_URL = 'https://api.blockchair.com/bitcoin/blocks'\n",
        "\n",
        "# Хэш блока, который нас интересует\n",
        "BLOCK_HASH = '000000000000000000024beed69ad1a601021f939b4c26eec894a0ab42b64f0a'\n",
        "\n",
        "# Отправляем запрос к API\n",
        "response = requests.get(API_URL + '/' + BLOCK_HASH)\n",
        "\n",
        "# Проверяем, что ответ успешный\n",
        "if response.status_code == 200:\n",
        "    # Преобразуем ответ в JSON-объект\n",
        "    block_data = response.json()\n",
        "\n",
        "    # Выводим информацию о блоке\n",
        "    print('Хэш блока:', block_data['data']['hash'])\n",
        "    print('Версия:', block_data['data']['version'])\n",
        "    print('Время:', block_data['data']['time'])\n",
        "    print('Сложность:', block_data['data']['bits'])\n",
        "    print('Количество транзакций:', block_data['data']['n_tx'])\n",
        "else:\n",
        "    print('Ошибка при получении информации о блоке')"
      ],
      "metadata": {
        "id": "02lsUSMO2C2v"
      },
      "execution_count": null,
      "outputs": []
    },
    {
      "cell_type": "markdown",
      "source": [
        "\n",
        "\n",
        "---\n",
        "\n",
        "# BlockCypher – Blockchain Web Services\n",
        "\n",
        "*  Python script for obtaining data about a specific block using the API from blockchair.com:"
      ],
      "metadata": {
        "id": "MnjapdH92G7q"
      }
    },
    {
      "cell_type": "code",
      "source": [
        "import requests\n",
        "\n",
        "# Замените 'bitcoin' на любую другую криптовалюту, если нужно\n",
        "blockchain = 'bitcoin'\n",
        "block_number = 1  # Номер блока, о котором нужно получить информацию\n",
        "\n",
        "url = f'https://api.blockchair.com/{blockchain}/blocks/{block_number}'\n",
        "response = requests.get(url)\n",
        "\n",
        "if response.status_code == 200:\n",
        "    block_data = response.json()\n",
        "    print('Информация о блоке:')\n",
        "    print(f'Высота блока: {block_data[\"data\"][str(block_number)][\"block\"][\"height\"]}')\n",
        "    print(f'Хэш блока: {block_data[\"data\"][str(block_number)][\"block\"][\"hash\"]}')\n",
        "    print(f'Временная метка: {block_data[\"data\"][str(block_number)][\"block\"][\"time\"]}')\n",
        "    print(f'Количество транзакций: {len(block_data[\"data\"][str(block_number)][\"transactions\"])}')\n",
        "else:\n",
        "    print('Ошибка при получении данных')"
      ],
      "metadata": {
        "id": "D_I3Ux-s2RQZ"
      },
      "execution_count": null,
      "outputs": []
    },
    {
      "cell_type": "markdown",
      "source": [
        "\n",
        "\n",
        "---\n",
        "\n",
        "# Esplora – Self-hosted blockchain explorer\n",
        "\n",
        "*  Python script for interacting with Esplora – a self-hosted blockchain explorer:"
      ],
      "metadata": {
        "id": "24JoqoBo2Ysp"
      }
    },
    {
      "cell_type": "code",
      "source": [
        "import requests\n",
        "\n",
        "# Esplora API endpoint\n",
        "ESPLORA_URL = \"https://blockstream.info/api\"\n",
        "\n",
        "# Функция для получения информации о блоке\n",
        "def get_block_info(block_hash):\n",
        "    url = f\"{ESPLORA_URL}/block/{block_hash}\"\n",
        "    response = requests.get(url)\n",
        "    if response.status_code == 200:\n",
        "        return response.json()\n",
        "    else:\n",
        "        return None\n",
        "\n",
        "# Функция для получения информации о транзакции\n",
        "def get_tx_info(tx_id):\n",
        "    url = f\"{ESPLORA_URL}/tx/{tx_id}\"\n",
        "    response = requests.get(url)\n",
        "    if response.status_code == 200:\n",
        "        return response.json()\n",
        "    else:\n",
        "        return None\n",
        "\n",
        "# Пример использования\n",
        "block_hash = \"000000000019d6689c085ae165831e934ff763ae46a2a6c172b3f1b60a8ce26f\"\n",
        "block_info = get_block_info(block_hash)\n",
        "if block_info:\n",
        "    print(f\"Block height: {block_info['height']}\")\n",
        "    print(f\"Block timestamp: {block_info['timestamp']}\")\n",
        "    print(f\"Block transactions: {len(block_info['tx'])}\")\n",
        "\n",
        "tx_id = \"e10e2e8c7cf517b1c252cdf95d75bc0f7f5c8d4d76d0c3c9a55e9f2ad75e76d\"\n",
        "tx_info = get_tx_info(tx_id)\n",
        "if tx_info:\n",
        "    print(f\"Transaction ID: {tx_info['txid']}\")\n",
        "    print(f\"Transaction size: {tx_info['size']} bytes\")\n",
        "    print(f\"Transaction fee: {tx_info['fee']} satoshis\")"
      ],
      "metadata": {
        "id": "Mih3yi1P2fUk"
      },
      "execution_count": null,
      "outputs": []
    },
    {
      "cell_type": "markdown",
      "source": [
        "\n",
        "\n",
        "---\n",
        "\n",
        "# Insight REST API bitcoin network\n",
        "\n",
        "*  Python script for obtaining information about the block and address balance:"
      ],
      "metadata": {
        "id": "qqJhIg1N2lXY"
      }
    },
    {
      "cell_type": "code",
      "source": [
        "import requests\n",
        "\n",
        "def get_block_info(block_hash):\n",
        "    url = f'https://insight.bitpay.com/api/block/{block_hash}'\n",
        "    response = requests.get(url)\n",
        "    if response.status_code == 200:\n",
        "        return response.json()\n",
        "    else:\n",
        "        return None\n",
        "\n",
        "def get_address_balance(address):\n",
        "    url = f'https://insight.bitpay.com/api/addr/{address}/balance'\n",
        "    response = requests.get(url)\n",
        "    if response.status_code == 200:\n",
        "        return int(response.text) / 1e8\n",
        "    else:\n",
        "        return None\n",
        "\n",
        "if __name__ == \"__main__\":\n",
        "    # Замените здесь свой блок-хэш и адрес\n",
        "    block_hash = '00000000000000000007ed0e1a7eac8d5fd7a1dd839067f8ca5d0ab0f3efc2a9'\n",
        "    address = '1A1zP1eP5QGefi2DMPTfTL5SLmv7DivfNa'\n",
        "\n",
        "    block_info = get_block_info(block_hash)\n",
        "    if block_info:\n",
        "        print(f'Block Info: {block_info}')\n",
        "    else:\n",
        "        print(f'Could not fetch block info for {block_hash}')\n",
        "\n",
        "    balance = get_address_balance(address)\n",
        "    if balance is not None:\n",
        "        print(f'Address Balance: {balance} BTC')\n",
        "    else:\n",
        "        print(f'Could not fetch balance for {address}')"
      ],
      "metadata": {
        "id": "fyOyymrF2ubK"
      },
      "execution_count": null,
      "outputs": []
    },
    {
      "cell_type": "markdown",
      "source": [
        "\n",
        "\n",
        "---\n",
        "\n",
        "*  Python script that uses the Insight REST API to obtain information about the Bitcoin network:"
      ],
      "metadata": {
        "id": "o--dD7RP2vWE"
      }
    },
    {
      "cell_type": "code",
      "source": [
        "import requests\n",
        "\n",
        "# URL Insight API endpoint для получения информации о сети Bitcoin\n",
        "url = 'https://insight.bitpay.com/api/status'\n",
        "\n",
        "# Отправка запроса на API\n",
        "response = requests.get(url)\n",
        "\n",
        "# Проверка успешности запроса\n",
        "if response.status_code == 200:\n",
        "    # Преобразование ответа JSON в Python объект\n",
        "    data = response.json()\n",
        "\n",
        "    # Вывод информации о сети Bitcoin\n",
        "    print('Информация о сети Bitcoin:')\n",
        "    print('Блоков: ', data['info']['blocks'])\n",
        "    print('Транзакций: ', data['info']['total_transactions'])\n",
        "    print('Текущая сложность: ', data['info']['difficulty'])\n",
        "    print('Текущая хэшрейт: ', data['info']['networkhashps'])\n",
        "else:\n",
        "    print('Ошибка при получении данных от API.')"
      ],
      "metadata": {
        "id": "AMKlALEZ2zaE"
      },
      "execution_count": null,
      "outputs": []
    },
    {
      "cell_type": "markdown",
      "source": [
        "\n",
        "\n",
        "---\n",
        "\n",
        "# Chain.com API bitcoin network\n",
        "\n",
        "*  Python script that demonstrates interacting with the Chain.com API to obtain information about the Bitcoin network:"
      ],
      "metadata": {
        "id": "99kWUxCH21jb"
      }
    },
    {
      "cell_type": "code",
      "source": [
        "import requests\n",
        "\n",
        "# URL-адрес API Chain.com для получения информации о сети Bitcoin\n",
        "url = 'https://chain.com/api/v1/bitcoin/network'\n",
        "\n",
        "# Отправка запроса на API\n",
        "response = requests.get(url)\n",
        "\n",
        "# Проверка успешности запроса\n",
        "if response.status_code == 200:\n",
        "    # Преобразование ответа JSON в Python-объект\n",
        "    data = response.json()\n",
        "\n",
        "    # Вывод информации о сети Bitcoin\n",
        "    print('Информация о сети Bitcoin:')\n",
        "    print('Блоков:', data['block_height'])\n",
        "    print('Сложность:', data['difficulty'])\n",
        "    print('Хэшрейт:', data['hash_rate'])\n",
        "    print('Средний размер блока:', data['average_block_size'])\n",
        "    # и так далее для других полей в ответе JSON\n",
        "else:\n",
        "    print('Ошибка при получении данных о сети Bitcoin.')"
      ],
      "metadata": {
        "id": "IovnMpzM2--8"
      },
      "execution_count": null,
      "outputs": []
    },
    {
      "cell_type": "markdown",
      "source": [
        "\n",
        "\n",
        "---\n",
        "\n",
        "*  Next, create a simple script that will retrieve information about the latest block in the Bitcoin network via the Chain.com API:\n"
      ],
      "metadata": {
        "id": "Ig7iRoXQ3A3D"
      }
    },
    {
      "cell_type": "code",
      "source": [
        "import requests\n",
        "import json\n",
        "\n",
        "# 替换为你自己的API密钥\n",
        "API_KEY = \"YOUR_CHAIN_COM_API_KEY\"\n",
        "BASE_URL = \"https://api.chain.com/v2\"\n",
        "\n",
        "def get_last_block_info():\n",
        "    headers = {\n",
        "        \"Content-Type\": \"application/json\",\n",
        "        \"Authorization\": f\"Bearer {API_KEY}\"\n",
        "    }\n",
        "\n",
        "    # Bitcoin主网的区块链地址\n",
        "    blockchain = \"bitcoin_mainnet\"\n",
        "\n",
        "    url = f\"{BASE_URL}/blockchains/{blockchain}/blocks/latest\"\n",
        "    response = requests.get(url, headers=headers)\n",
        "\n",
        "    if response.status_code == 200:\n",
        "        data = json.loads(response.text)\n",
        "        block_hash = data[\"hash\"]\n",
        "        block_height = data[\"height\"]\n",
        "        timestamp = data[\"timestamp\"]\n",
        "        print(f\"Last Block Hash: {block_hash}\")\n",
        "        print(f\"Block Height: {block_height}\")\n",
        "        print(f\"Block Timestamp: {timestamp}\")\n",
        "    else:\n",
        "        print(f\"Error: {response.status_code} - {response.text}\")\n",
        "\n",
        "if __name__ == \"__main__\":\n",
        "    get_last_block_info()"
      ],
      "metadata": {
        "id": "UyhvdtrM3GR-"
      },
      "execution_count": null,
      "outputs": []
    },
    {
      "cell_type": "markdown",
      "source": [
        "\n",
        "\n",
        "---\n",
        "\n",
        "# Coinbase Wallet Blockchain API bitcoin network\n",
        "\n",
        "*  Python script that is used requeststo obtain information about the wallet balance:"
      ],
      "metadata": {
        "id": "xpw4lUwg3Ipd"
      }
    },
    {
      "cell_type": "code",
      "source": [
        "import requests\n",
        "\n",
        "# Ваш API ключ\n",
        "api_key = \"YOUR_API_KEY\"\n",
        "\n",
        "# URL для запроса баланса\n",
        "url = f\"https://api.coinbase.com/v2/accounts/YOUR_ACCOUNT_ID?api_key={api_key}\"\n",
        "\n",
        "# Отправляем GET-запрос\n",
        "response = requests.get(url)\n",
        "\n",
        "# Проверяем статус кода ответа\n",
        "if response.status_code == 200:\n",
        "    # Получаем данные из ответа в формате JSON\n",
        "    data = response.json()\n",
        "\n",
        "    # Извлекаем баланс\n",
        "    balance = data[\"data\"][\"amount\"]\n",
        "\n",
        "    # Выводим баланс\n",
        "    print(f\"Your balance: {balance}\")\n",
        "else:\n",
        "    print(\"Error: Unable to fetch balance\")"
      ],
      "metadata": {
        "id": "YlX-mCG63RqL"
      },
      "execution_count": null,
      "outputs": []
    },
    {
      "cell_type": "markdown",
      "source": [
        "\n",
        "\n",
        "---\n",
        "\n",
        "*  Python script that uses the Coinbase API to get the current Bitcoin rate:"
      ],
      "metadata": {
        "id": "IIKMNIZa3Uqs"
      }
    },
    {
      "cell_type": "code",
      "source": [
        "import requests\n",
        "\n",
        "def get_bitcoin_price():\n",
        "    response = requests.get('https://api.coinbase.com/v2/prices/spot?currency=USD')\n",
        "    data = response.json()\n",
        "    amount = data['data']['amount']\n",
        "    return amount\n",
        "\n",
        "print(\"Current Bitcoin price: \", get_bitcoin_price())"
      ],
      "metadata": {
        "id": "RwC6XXEj3bAc"
      },
      "execution_count": null,
      "outputs": []
    },
    {
      "cell_type": "markdown",
      "source": [
        "\n",
        "\n",
        "---\n",
        "\n",
        "# Chainradar API – Blockchain Explorer API for Chainradar\n",
        "\n",
        "*  \n",
        "Python script for obtaining information about a block by its hash:"
      ],
      "metadata": {
        "id": "jeAv2Alc3bqc"
      }
    },
    {
      "cell_type": "code",
      "source": [
        "import requests\n",
        "\n",
        "def get_block_info(api_key, block_hash):\n",
        "    url = f'https://www.chainradar.com/api/v1/{api_key}/block/{block_hash}'\n",
        "    response = requests.get(url)\n",
        "\n",
        "    if response.status_code == 200:\n",
        "        return response.json()\n",
        "    else:\n",
        "        return None\n",
        "\n",
        "api_key = 'your_api_key_here'\n",
        "block_hash = 'your_block_hash_here'\n",
        "block_info = get_block_info(api_key, block_hash)\n",
        "\n",
        "if block_info:\n",
        "    print(f'Block Info: {block_info}')\n",
        "else:\n",
        "    print('Error: Unable to fetch block info')"
      ],
      "metadata": {
        "id": "-pIx1fR63nPX"
      },
      "execution_count": null,
      "outputs": []
    },
    {
      "cell_type": "markdown",
      "source": [
        "\n",
        "\n",
        "---\n",
        "\n",
        "*  Python script that uses the Chainradar API to obtain information about a specific block:\n"
      ],
      "metadata": {
        "id": "I5q5w2kZ3qVJ"
      }
    },
    {
      "cell_type": "code",
      "source": [
        "import requests\n",
        "import json\n",
        "\n",
        "# Chainradar API endpoint\n",
        "api_url = \"https://api.chainradar.com/v1/block/{}\"\n",
        "\n",
        "# Номер блока, который мы хотим получить\n",
        "block_number = 12345678\n",
        "\n",
        "# Отправляем запрос к API\n",
        "response = requests.get(api_url.format(block_number))\n",
        "\n",
        "# Проверяем, что запрос был успешным\n",
        "if response.status_code == 200:\n",
        "    # Получаем данные в формате JSON\n",
        "    block_data = json.loads(response.text)\n",
        "\n",
        "    # Выводим некоторую информацию о блоке\n",
        "    print(f\"Block Number: {block_data['number']}\")\n",
        "    print(f\"Timestamp: {block_data['timestamp']}\")\n",
        "    print(f\"Transactions: {len(block_data['transactions'])}\")\n",
        "    print(f\"Gas Used: {block_data['gasUsed']}\")\n",
        "    print(f\"Gas Limit: {block_data['gasLimit']}\")\n",
        "else:\n",
        "    print(f\"Error: {response.status_code} - {response.text}\")"
      ],
      "metadata": {
        "id": "vaSGg-Ss3tur"
      },
      "execution_count": null,
      "outputs": []
    },
    {
      "cell_type": "markdown",
      "source": [
        "\n",
        "\n",
        "---\n",
        "\n",
        "# One-Time Address A better way to share your Bitcoin address\n",
        "\n",
        "*  Python script that prints a new One-Time Address for each call:"
      ],
      "metadata": {
        "id": "oE-dwSXX3u3r"
      }
    },
    {
      "cell_type": "code",
      "source": [
        "import random\n",
        "import hashlib\n",
        "import binascii\n",
        "\n",
        "def generate_ota(domain: str, timestamp: int) -> str:\n",
        "    #Generate a random nonce\n",
        "    nonce = random.randint(1, 1000000)\n",
        "\n",
        "    #Calculate the hash of the domain and nonce\n",
        "    hash = hashlib.sha256(f\"{domain}{nonce}\").hexdigest()\n",
        "\n",
        "    #Encode the hash in base58\n",
        "    ot = binascii.hexlify(hash).decode(\"utf-8\")\n",
        "\n",
        "    #Append the timestamp to the OT\n",
        "    ot += f\"{timestamp:010d}\"\n",
        "\n",
        "    return ot\n",
        "\n",
        "#Example usage\n",
        "domain = \"example.com\"\n",
        "timestamp = int(time.time())\n",
        "ota = generate_ota(domain, timestamp)\n",
        "print(ota)"
      ],
      "metadata": {
        "id": "YtNnjB9332Te"
      },
      "execution_count": null,
      "outputs": []
    },
    {
      "cell_type": "markdown",
      "source": [
        "\n",
        "\n",
        "---\n",
        "\n",
        "*  You can call the generate_ota() function with a domain and timestamp as arguments to generate a new OT. For example:\n"
      ],
      "metadata": {
        "id": "bIp8DTgt35NM"
      }
    },
    {
      "cell_type": "code",
      "source": [
        "domain = \"example.com\"\n",
        "timestamp = int(time.time())\n",
        "ota = generate_ota(domain, timestamp)\n",
        "print(ota)"
      ],
      "metadata": {
        "id": "nkyDIcZg39r4"
      },
      "execution_count": null,
      "outputs": []
    },
    {
      "cell_type": "markdown",
      "source": [
        "\n",
        "\n",
        "---\n",
        "\n",
        "*  An example of creating a one-time address using pycoin:\n",
        "\n"
      ],
      "metadata": {
        "id": "-xuqcfgM3-Ic"
      }
    },
    {
      "cell_type": "code",
      "source": [
        "from pycoin.key import Key\n",
        "from pycoin.networks import networks\n",
        "\n",
        "# Создание ключа\n",
        "network = networks[\"bitcoin\"]\n",
        "secret_exponent = Key.from_random()\n",
        "public_pair = secret_exponent.public_pair()\n",
        "public_key = public_pair.format(network=network)\n",
        "\n",
        "# Создание одноразового адреса\n",
        "address = public_key.to_address(network=network)\n",
        "\n",
        "print(\"Одноразовое bitcoin адрес:\", address)"
      ],
      "metadata": {
        "id": "uHRv9WNP4DuI"
      },
      "execution_count": null,
      "outputs": []
    },
    {
      "cell_type": "markdown",
      "source": [
        "\n",
        "\n",
        "---\n",
        "\n",
        "# Cryptocurrency Alerting – Bitcoin wallet monitoring and blockchain alerts\n",
        "\n",
        "*  To create a simple script to monitor bitcoins in a wallet and send notifications about a price change or event on the blockchain, we can use the library ccxtto access the API of cryptocurrency exchanges and python-telegram-botsend notifications via Telegram. Make sure you have installed these libraries using pip:"
      ],
      "metadata": {
        "id": "L8NXauW54E4D"
      }
    },
    {
      "cell_type": "code",
      "source": [
        "!pip install ccxt python-telegram-bot"
      ],
      "metadata": {
        "colab": {
          "base_uri": "https://localhost:8080/"
        },
        "id": "IVnfKbTh4Ppn",
        "outputId": "7f1ccfb3-53a8-4bf9-c500-8068f5fd8eac"
      },
      "execution_count": null,
      "outputs": [
        {
          "output_type": "stream",
          "name": "stdout",
          "text": [
            "Collecting ccxt\n",
            "  Downloading ccxt-4.2.94-py2.py3-none-any.whl (4.6 MB)\n",
            "\u001b[2K     \u001b[90m━━━━━━━━━━━━━━━━━━━━━━━━━━━━━━━━━━━━━━━━\u001b[0m \u001b[32m4.6/4.6 MB\u001b[0m \u001b[31m30.9 MB/s\u001b[0m eta \u001b[36m0:00:00\u001b[0m\n",
            "\u001b[?25hCollecting python-telegram-bot\n",
            "  Downloading python_telegram_bot-21.0.1-py3-none-any.whl (604 kB)\n",
            "\u001b[2K     \u001b[90m━━━━━━━━━━━━━━━━━━━━━━━━━━━━━━━━━━━━━━━━\u001b[0m \u001b[32m604.4/604.4 kB\u001b[0m \u001b[31m38.6 MB/s\u001b[0m eta \u001b[36m0:00:00\u001b[0m\n",
            "\u001b[?25hRequirement already satisfied: setuptools>=60.9.0 in /usr/local/lib/python3.10/dist-packages (from ccxt) (67.7.2)\n",
            "Requirement already satisfied: certifi>=2018.1.18 in /usr/local/lib/python3.10/dist-packages (from ccxt) (2024.2.2)\n",
            "Requirement already satisfied: requests>=2.18.4 in /usr/local/lib/python3.10/dist-packages (from ccxt) (2.31.0)\n",
            "Requirement already satisfied: cryptography>=2.6.1 in /usr/local/lib/python3.10/dist-packages (from ccxt) (42.0.5)\n",
            "Requirement already satisfied: typing-extensions>=4.4.0 in /usr/local/lib/python3.10/dist-packages (from ccxt) (4.10.0)\n",
            "Requirement already satisfied: aiohttp>=3.8 in /usr/local/lib/python3.10/dist-packages (from ccxt) (3.9.3)\n",
            "Collecting aiodns>=1.1.1 (from ccxt)\n",
            "  Downloading aiodns-3.2.0-py3-none-any.whl (5.7 kB)\n",
            "Requirement already satisfied: yarl>=1.7.2 in /usr/local/lib/python3.10/dist-packages (from ccxt) (1.9.4)\n",
            "Collecting httpx~=0.27 (from python-telegram-bot)\n",
            "  Downloading httpx-0.27.0-py3-none-any.whl (75 kB)\n",
            "\u001b[2K     \u001b[90m━━━━━━━━━━━━━━━━━━━━━━━━━━━━━━━━━━━━━━━━\u001b[0m \u001b[32m75.6/75.6 kB\u001b[0m \u001b[31m8.9 MB/s\u001b[0m eta \u001b[36m0:00:00\u001b[0m\n",
            "\u001b[?25hCollecting pycares>=4.0.0 (from aiodns>=1.1.1->ccxt)\n",
            "  Downloading pycares-4.4.0-cp310-cp310-manylinux_2_17_x86_64.manylinux2014_x86_64.whl (288 kB)\n",
            "\u001b[2K     \u001b[90m━━━━━━━━━━━━━━━━━━━━━━━━━━━━━━━━━━━━━━━━\u001b[0m \u001b[32m288.7/288.7 kB\u001b[0m \u001b[31m27.2 MB/s\u001b[0m eta \u001b[36m0:00:00\u001b[0m\n",
            "\u001b[?25hRequirement already satisfied: aiosignal>=1.1.2 in /usr/local/lib/python3.10/dist-packages (from aiohttp>=3.8->ccxt) (1.3.1)\n",
            "Requirement already satisfied: attrs>=17.3.0 in /usr/local/lib/python3.10/dist-packages (from aiohttp>=3.8->ccxt) (23.2.0)\n",
            "Requirement already satisfied: frozenlist>=1.1.1 in /usr/local/lib/python3.10/dist-packages (from aiohttp>=3.8->ccxt) (1.4.1)\n",
            "Requirement already satisfied: multidict<7.0,>=4.5 in /usr/local/lib/python3.10/dist-packages (from aiohttp>=3.8->ccxt) (6.0.5)\n",
            "Requirement already satisfied: async-timeout<5.0,>=4.0 in /usr/local/lib/python3.10/dist-packages (from aiohttp>=3.8->ccxt) (4.0.3)\n",
            "Requirement already satisfied: cffi>=1.12 in /usr/local/lib/python3.10/dist-packages (from cryptography>=2.6.1->ccxt) (1.16.0)\n",
            "Requirement already satisfied: anyio in /usr/local/lib/python3.10/dist-packages (from httpx~=0.27->python-telegram-bot) (3.7.1)\n",
            "Collecting httpcore==1.* (from httpx~=0.27->python-telegram-bot)\n",
            "  Downloading httpcore-1.0.5-py3-none-any.whl (77 kB)\n",
            "\u001b[2K     \u001b[90m━━━━━━━━━━━━━━━━━━━━━━━━━━━━━━━━━━━━━━━━\u001b[0m \u001b[32m77.9/77.9 kB\u001b[0m \u001b[31m8.4 MB/s\u001b[0m eta \u001b[36m0:00:00\u001b[0m\n",
            "\u001b[?25hRequirement already satisfied: idna in /usr/local/lib/python3.10/dist-packages (from httpx~=0.27->python-telegram-bot) (3.6)\n",
            "Requirement already satisfied: sniffio in /usr/local/lib/python3.10/dist-packages (from httpx~=0.27->python-telegram-bot) (1.3.1)\n",
            "Collecting h11<0.15,>=0.13 (from httpcore==1.*->httpx~=0.27->python-telegram-bot)\n",
            "  Downloading h11-0.14.0-py3-none-any.whl (58 kB)\n",
            "\u001b[2K     \u001b[90m━━━━━━━━━━━━━━━━━━━━━━━━━━━━━━━━━━━━━━━━\u001b[0m \u001b[32m58.3/58.3 kB\u001b[0m \u001b[31m6.3 MB/s\u001b[0m eta \u001b[36m0:00:00\u001b[0m\n",
            "\u001b[?25hRequirement already satisfied: charset-normalizer<4,>=2 in /usr/local/lib/python3.10/dist-packages (from requests>=2.18.4->ccxt) (3.3.2)\n",
            "Requirement already satisfied: urllib3<3,>=1.21.1 in /usr/local/lib/python3.10/dist-packages (from requests>=2.18.4->ccxt) (2.0.7)\n",
            "Requirement already satisfied: pycparser in /usr/local/lib/python3.10/dist-packages (from cffi>=1.12->cryptography>=2.6.1->ccxt) (2.22)\n",
            "Requirement already satisfied: exceptiongroup in /usr/local/lib/python3.10/dist-packages (from anyio->httpx~=0.27->python-telegram-bot) (1.2.0)\n",
            "Installing collected packages: h11, pycares, httpcore, httpx, aiodns, python-telegram-bot, ccxt\n",
            "Successfully installed aiodns-3.2.0 ccxt-4.2.94 h11-0.14.0 httpcore-1.0.5 httpx-0.27.0 pycares-4.4.0 python-telegram-bot-21.0.1\n"
          ]
        }
      ]
    },
    {
      "cell_type": "markdown",
      "source": [
        "\n",
        "\n",
        "---\n",
        "\n",
        "*  Then create a file alerting_script.pyand copy the following code:\n"
      ],
      "metadata": {
        "id": "mm3LRaZu4WA2"
      }
    },
    {
      "cell_type": "code",
      "source": [
        "import ccxt\n",
        "import time\n",
        "from telegram.ext import Updater, MessageHandler, Filters\n",
        "import os\n",
        "\n",
        "# Telegram bot credentials\n",
        "TOKEN = 'YOUR_TELEGRAM_BOT_TOKEN'\n",
        "CHAT_ID = 'YOUR_CHAT_ID'  # Текущий или групповой ID\n",
        "\n",
        "# Криптовалютная биржа (например, Binance)\n",
        "exchange = ccxt.binance({\n",
        "    'apiKey': 'YOUR_BINANCE_API_KEY',\n",
        "    'secret': 'YOUR_BINANCE_API_SECRET',\n",
        "})\n",
        "\n",
        "# Котировки, которые вы хотите мониторить (например, BTC/USD)\n",
        "currency_pair = 'BTC/USDT'\n",
        "\n",
        "# Метод, который проверяет котировки и отправляет уведомления\n",
        "def check_price(update, context):\n",
        "    try:\n",
        "        ticker = exchange.fetch_ticker(currency_pair)\n",
        "        current_price = ticker['last']\n",
        "\n",
        "        # Функция для отправки уведомления\n",
        "        def send_alert(text):\n",
        "            context.bot.send_message(chat_id=CHAT_ID, text=text)\n",
        "\n",
        "        # Условие для отправки уведомления, например, если цена достигает某个阈值\n",
        "        if current_price > 50000:  # Обновите этот уровень, если нужна другая граница\n",
        "            send_alert(f\"Price of {currency_pair} has crossed the threshold of $50,000!\")\n",
        "\n",
        "    except Exception as e:\n",
        "        print(f\"Error: {str(e)}\")\n",
        "\n",
        "# Инициализация Telegram бота\n",
        "updater = Updater(token=TOKEN, use_context=True)\n",
        "dispatcher = updater.dispatcher\n",
        "price_handler = MessageHandler(Filters.command, check_price)\n",
        "dispatcher.add_handler(price_handler)\n",
        "\n",
        "# Запуск мониторинга каждые 5 минут\n",
        "while True:\n",
        "    check_price(None, None)\n",
        "    time.sleep(300)  # Мониторинг каждые 5 минут\n",
        "\n",
        "# Запуск бота\n",
        "updater.start_polling()\n",
        "updater.idle()"
      ],
      "metadata": {
        "id": "ZRHJQ4_L4YPa"
      },
      "execution_count": null,
      "outputs": []
    },
    {
      "cell_type": "markdown",
      "source": [
        "\n",
        "\n",
        "---\n",
        "\n",
        "# BTC Connect – Unified Bitcoin Layer-1 and Layer-2 wallet connection and account abstraction\n",
        "\n",
        "*  The Python script will display a list of accounts and their balances, as well as a list of transactions for the last week."
      ],
      "metadata": {
        "id": "x6xg3q5v4b7w"
      }
    },
    {
      "cell_type": "code",
      "source": [
        "from datetime import datetime\n",
        "from btcconnect.wallet import Wallet\n",
        "\n",
        "# Create a new Wallet object with your seed phrase\n",
        "seed_phrase = \"your_seed_phrase\"\n",
        "wallet = Wallet(seed_phrase)\n",
        "\n",
        "# Connect to the wallet\n",
        "wallet.connect()\n",
        "\n",
        "# Get the current balance\n",
        "balance = wallet.get_balance()\n",
        "print(f\"Current balance: {balance}\")\n",
        "\n",
        "# Create a transaction\n",
        "to_address = \"1BvBM5h5q7Q8F1qZ8cd5J5a4N6z5yT9Q3\"\n",
        "amount = 0.001\n",
        "\n",
        "tx = wallet.create_transaction(to_address, amount)\n",
        "\n",
        "# Sign and broadcast the transaction\n",
        "tx.sign()\n",
        "tx.broadcast()\n",
        "\n",
        "# Get the transaction history\n",
        "history = wallet.get_transaction_history()\n",
        "for tx in history:\n",
        "    print(f\"{tx['txid']} - {tx['amount']} - {datetime.fromtimestamp(tx['timestamp']).strftime('%Y-%m-%d %H:%M:%S')}\")\n"
      ],
      "metadata": {
        "id": "nK4RM4Dc4nzK"
      },
      "execution_count": null,
      "outputs": []
    },
    {
      "cell_type": "markdown",
      "source": [
        "\n",
        "\n",
        "---\n",
        "\n",
        "*  bc  is a module that provides an interface to the BTC Connect API."
      ],
      "metadata": {
        "id": "K5FSn-iu4szi"
      }
    },
    {
      "cell_type": "code",
      "source": [
        "import bc\n",
        "\n",
        "# Коннект к BTC Connect\n",
        "client = bc.connect()\n",
        "\n",
        "# Получение списка счетов\n",
        "accounts = client.get_accounts()\n",
        "\n",
        "# Вывод информации о счетах\n",
        "for account in accounts:\n",
        "    print(f\"Название: {account['name']} | Должность: {account['balance']} BTC\")\n",
        "\n",
        "# Получение транзакций за последнюю неделю\n",
        "transactions = client.get_transactions(start_date='7d')\n",
        "\n",
        "# Вывод транзакций\n",
        "for transaction in transactions:\n",
        "    print(f\"Дата: {transaction['date']} | Счет: {transaction['account']} | Сумма: {transaction['amount']} BTC | Тип: {transaction['type']}\")"
      ],
      "metadata": {
        "id": "T83MrT_g4ueN"
      },
      "execution_count": null,
      "outputs": []
    },
    {
      "cell_type": "markdown",
      "source": [
        "\n",
        "\n",
        "---\n",
        "\n",
        "\n",
        "Telegram: https://t.me/cryptodeeptech\n",
        "\n",
        "YouTube: https://www.youtube.com/@cryptodeeptech\n",
        "\n",
        "Publication: https://cryptodeeptech.ru/blockchain-api-and-web-services\n",
        "\n",
        "\n",
        "---\n"
      ],
      "metadata": {
        "id": "2ZtPVYb94wvB"
      }
    },
    {
      "cell_type": "code",
      "source": [],
      "metadata": {
        "colab": {
          "base_uri": "https://localhost:8080/",
          "height": 336
        },
        "id": "GIvkKaxNUjYg",
        "outputId": "6c7f3922-0c37-41da-bb1b-439808a6f1fe"
      },
      "execution_count": 2,
      "outputs": [
        {
          "output_type": "execute_result",
          "data": {
            "text/plain": [
              "<IPython.core.display.HTML object>"
            ],
            "text/html": [
              "\n",
              "<iframe width=\"560\" height=\"315\" src=\"https://dzen.ru/embed/vnQto8_Y0f1E\" frameborder=\"0\" allowfullscreen></iframe>\n"
            ]
          },
          "metadata": {},
          "execution_count": 2
        }
      ]
    }
  ]
}